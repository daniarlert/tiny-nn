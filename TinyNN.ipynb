{
 "cells": [
  {
   "attachments": {},
   "cell_type": "markdown",
   "metadata": {},
   "source": [
    "# Tiny NN\n",
    "\n",
    "This notebooks is a follow through this [tutorial](https://iamtrask.github.io/2015/07/12/basic-python-network/?) written by *iamtrask* about how to implement a bare bones neural network with backpropagation."
   ]
  },
  {
   "attachments": {},
   "cell_type": "markdown",
   "metadata": {},
   "source": [
    "## Explanation\n",
    "\n",
    "A neural network trained with backpropagation will attempt to use input to predict output since backpropagation, in its simplest form, measures statistics like this to make a model.\n"
   ]
  },
  {
   "attachments": {},
   "cell_type": "markdown",
   "metadata": {},
   "source": [
    "## Setup"
   ]
  },
  {
   "cell_type": "code",
   "execution_count": 1,
   "metadata": {},
   "outputs": [
    {
     "name": "stdout",
     "output_type": "stream",
     "text": [
      "Requirement already satisfied: numpy in ./.venv/lib/python3.11/site-packages (1.24.2)\n"
     ]
    }
   ],
   "source": [
    "!pip install numpy"
   ]
  },
  {
   "cell_type": "code",
   "execution_count": 2,
   "metadata": {},
   "outputs": [],
   "source": [
    "# import numpy\n",
    "import numpy as np"
   ]
  },
  {
   "cell_type": "code",
   "execution_count": 3,
   "metadata": {},
   "outputs": [],
   "source": [
    "# seed random numbers to make calculation deterministic\n",
    "np.random.seed(42)"
   ]
  },
  {
   "attachments": {},
   "cell_type": "markdown",
   "metadata": {},
   "source": [
    "## First part"
   ]
  },
  {
   "cell_type": "code",
   "execution_count": 4,
   "metadata": {},
   "outputs": [],
   "source": [
    "# define sigmoid function, it gives back a probability\n",
    "def non_lin(x, deriv=False):\n",
    "    if deriv:\n",
    "        return x * (1 - x)\n",
    "    else:\n",
    "        return 1 / (1 + np.exp(-x))"
   ]
  },
  {
   "attachments": {},
   "cell_type": "markdown",
   "metadata": {},
   "source": [
    "A sigmoid function maps any value to a value between 0 and 1. It is used to convert numbers to probabilities. It also has several other desirable properties for training neural networks."
   ]
  },
  {
   "cell_type": "code",
   "execution_count": 5,
   "metadata": {},
   "outputs": [],
   "source": [
    "# input dataset, each row is a training example\n",
    "x = np.array(\n",
    "    [\n",
    "        [0, 0, 1],\n",
    "        [0, 1, 1],\n",
    "        [1, 0, 1],\n",
    "        [1, 1, 1],\n",
    "    ]\n",
    ")\n",
    "\n",
    "# output dataset, each row is a training example\n",
    "y = np.array([[0, 0, 1, 1]]).T"
   ]
  },
  {
   "cell_type": "code",
   "execution_count": 6,
   "metadata": {},
   "outputs": [],
   "source": [
    "# initialize weights randomly with mean 0\n",
    "syn_zero = 2 * np.random.random((3, 1)) - 1"
   ]
  },
  {
   "cell_type": "code",
   "execution_count": 7,
   "metadata": {},
   "outputs": [],
   "source": [
    "for i in range(10_000):\n",
    "    # forward propagation\n",
    "    l0 = x  # first layer of the network\n",
    "    l1 = non_lin(np.dot(l0, syn_zero))  # hidden layer\n",
    "\n",
    "    # misses\n",
    "    l1_error = y - l1\n",
    "\n",
    "    # misses multiplied by the slope of the sigmoid at the values of l1\n",
    "    l1_delta = l1_error * non_lin(l1, True)\n",
    "\n",
    "    # update weights\n",
    "    syn_zero += np.dot(l0.T, l1_delta)  # first layer of weights"
   ]
  },
  {
   "cell_type": "code",
   "execution_count": 8,
   "metadata": {},
   "outputs": [
    {
     "data": {
      "text/plain": [
       "array([[0.00966808],\n",
       "       [0.00786589],\n",
       "       [0.99358863],\n",
       "       [0.99211705]])"
      ]
     },
     "execution_count": 8,
     "metadata": {},
     "output_type": "execute_result"
    }
   ],
   "source": [
    "l1"
   ]
  },
  {
   "attachments": {},
   "cell_type": "markdown",
   "metadata": {},
   "source": [
    "## Second part"
   ]
  },
  {
   "cell_type": "code",
   "execution_count": 9,
   "metadata": {},
   "outputs": [],
   "source": [
    "# update expected output\n",
    "y = np.array([[0], [1], [1], [0]])"
   ]
  },
  {
   "cell_type": "code",
   "execution_count": 10,
   "metadata": {},
   "outputs": [],
   "source": [
    "# randomly initialize our weights with mean 0\n",
    "syn_zero = 2 * np.random.random((3, 4)) - 1\n",
    "syn_one = 2 * np.random.random((4, 1)) - 1"
   ]
  },
  {
   "cell_type": "code",
   "execution_count": 11,
   "metadata": {},
   "outputs": [
    {
     "name": "stdout",
     "output_type": "stream",
     "text": [
      "Error: 0.49963945276141286\n"
     ]
    }
   ],
   "source": [
    "for i in range(10_000):\n",
    "    # feed forward through layers 0, 1 and 2\n",
    "    l0 = x\n",
    "    l1 = non_lin(np.dot(l0, syn_zero))\n",
    "    l2 = non_lin(np.dot(l1, syn_one))\n",
    "\n",
    "    # misses\n",
    "    l2_error = y - l2\n",
    "\n",
    "    if (i % 10_000) == 0:\n",
    "        print(f\"Error: {np.mean(np.abs(l2_error))}\")\n",
    "\n",
    "    # direction of the target value\n",
    "    l2_delta = l2_error * non_lin(l2, True)\n",
    "\n",
    "    # how much did each l1 values contribute to the l2 error?\n",
    "    l1_error = l2_delta.dot(syn_one.T)\n",
    "\n",
    "    # direction of the target l1\n",
    "    l1_delta = l1_error * non_lin(l1, True)\n",
    "\n",
    "    syn_one += l1.T.dot(l2_delta)\n",
    "    syn_zero += l0.T.dot(l1_delta)"
   ]
  },
  {
   "cell_type": "code",
   "execution_count": 12,
   "metadata": {},
   "outputs": [
    {
     "data": {
      "text/plain": [
       "array([[0.00706947],\n",
       "       [0.99217766],\n",
       "       [0.99074812],\n",
       "       [0.01002659]])"
      ]
     },
     "execution_count": 12,
     "metadata": {},
     "output_type": "execute_result"
    }
   ],
   "source": [
    "l2"
   ]
  }
 ],
 "metadata": {
  "kernelspec": {
   "display_name": ".venv",
   "language": "python",
   "name": "python3"
  },
  "language_info": {
   "codemirror_mode": {
    "name": "ipython",
    "version": 3
   },
   "file_extension": ".py",
   "mimetype": "text/x-python",
   "name": "python",
   "nbconvert_exporter": "python",
   "pygments_lexer": "ipython3",
   "version": "3.11.2"
  },
  "orig_nbformat": 4
 },
 "nbformat": 4,
 "nbformat_minor": 2
}
